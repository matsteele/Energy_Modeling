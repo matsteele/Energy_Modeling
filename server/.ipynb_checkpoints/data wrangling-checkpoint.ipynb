{
 "cells": [
  {
   "cell_type": "code",
   "execution_count": 249,
   "metadata": {},
   "outputs": [
    {
     "name": "stdout",
     "output_type": "stream",
     "text": [
      "   out_door_temp  electricity_usage            datetime  just_date just_time\n",
      "0      33.630833             779.96 2016-12-30 01:30:00 2016-12-30  01:30:00\n",
      "1      33.280833             804.26 2016-12-30 02:00:00 2016-12-30  02:00:00\n",
      "2      33.003333             743.50 2016-12-30 02:30:00 2016-12-30  02:30:00\n",
      "3      32.803333             703.86 2016-12-30 03:00:00 2016-12-30  03:00:00\n",
      "4      32.555000             699.72 2016-12-30 03:30:00 2016-12-30  03:30:00\n"
     ]
    }
   ],
   "source": [
    "import pandas as pd\n",
    "import datetime as dt\n",
    "\n",
    "import plotly.express as px\n",
    "\n",
    "\n",
    "df = pd.read_csv('PD_challange_data_set.csv')\n",
    "\n",
    "def setUpTimeData(df):\n",
    "    df['datetime'] = pd.to_datetime(df['time'])\n",
    "    del df[\"time\"]\n",
    "\n",
    "    df['just_date'] = pd.to_datetime(df['datetime'].dt.date)\n",
    "    df['just_time'] = df['datetime'].dt.time\n",
    "    return df\n",
    "\n",
    "\n",
    "time_data = setUpTimeData(df)\n",
    "print(time_data.head())\n",
    "\n",
    "\n"
   ]
  },
  {
   "cell_type": "code",
   "execution_count": 250,
   "metadata": {},
   "outputs": [
    {
     "name": "stdout",
     "output_type": "stream",
     "text": [
      "   just_date  electricity_usage_sum_byDate  out_door_temp_mean_byDate  \\\n",
      "0 2016-12-30                      51800.48                  32.649648   \n",
      "1 2016-12-31                      26829.30                  32.186580   \n",
      "2 2017-01-01                      39417.32                  36.468906   \n",
      "3 2017-01-02                      41160.22                  36.076892   \n",
      "4 2017-01-03                      60663.12                  40.284983   \n",
      "\n",
      "   day_num week_num  year yr_and_week_num  \n",
      "0        4       52  2016         2016-52  \n",
      "1        5       52  2016         2016-52  \n",
      "2        6       52  2017         2017-52  \n",
      "3        0       01  2017         2017-01  \n",
      "4        1       01  2017         2017-01  \n"
     ]
    }
   ],
   "source": [
    "def sum_by_day(df):\n",
    "    dfByDate = df.groupby(['just_date'], as_index=False).agg({'electricity_usage': ['sum'],'out_door_temp': ['mean']})\n",
    "    dfByDate.reset_index()\n",
    "    dfByDate.columns = dfByDate.columns.droplevel(1)   \n",
    "    dfByDate['electricity_usage_sum_byDate'] = dfByDate['electricity_usage']\n",
    "    del dfByDate['electricity_usage']\n",
    "    dfByDate['out_door_temp_mean_byDate'] = dfByDate['out_door_temp']\n",
    "    del dfByDate['out_door_temp']\n",
    "    \n",
    "    return dfByDate\n",
    "\n",
    "def build_in_day_features(df):\n",
    "#     datetime.strptime(\"25-01-1973\", \"%d-%m-%Y\")\n",
    "#     df['just_date'] = pd.to_datetime(df['just_date'])\n",
    "    df['day_num'] = df['just_date'].dt.weekday\n",
    "    df['week_num'] = df['just_date'].dt.strftime(\"%V\")\n",
    "    df['year'] = df['just_date'].dt.strftime(\"%Y\")\n",
    "    df['yr_and_week_num'] = df['year'].map(str) + '-' + df['week_num'].map(str)\n",
    "#     df['yr_and_week_num'] = str(df['year']) + str(df['week_num'])\n",
    "    \n",
    "\n",
    "    return df\n",
    "\n",
    "DF_byDay = sum_by_day(df)\n",
    "DF_byDay = build_in_day_features(DF_byDay)\n",
    "\n",
    "print(DF_byDay.head())"
   ]
  },
  {
   "cell_type": "code",
   "execution_count": 251,
   "metadata": {},
   "outputs": [
    {
     "data": {
      "text/html": [
       "<div>\n",
       "<style scoped>\n",
       "    .dataframe tbody tr th:only-of-type {\n",
       "        vertical-align: middle;\n",
       "    }\n",
       "\n",
       "    .dataframe tbody tr th {\n",
       "        vertical-align: top;\n",
       "    }\n",
       "\n",
       "    .dataframe thead th {\n",
       "        text-align: right;\n",
       "    }\n",
       "</style>\n",
       "<table border=\"1\" class=\"dataframe\">\n",
       "  <thead>\n",
       "    <tr style=\"text-align: right;\">\n",
       "      <th></th>\n",
       "      <th>yr_and_week_num</th>\n",
       "      <th>electricity_usage_sum_byWeek</th>\n",
       "      <th>electricity_usage_mean_byWeek</th>\n",
       "      <th>electricity_usage_std_byWeek</th>\n",
       "      <th>out_door_temp_mean_byWeek</th>\n",
       "    </tr>\n",
       "  </thead>\n",
       "  <tbody>\n",
       "    <tr>\n",
       "      <th>0</th>\n",
       "      <td>2016-52</td>\n",
       "      <td>78629.78</td>\n",
       "      <td>39314.890000</td>\n",
       "      <td>17657.290712</td>\n",
       "      <td>32.418114</td>\n",
       "    </tr>\n",
       "    <tr>\n",
       "      <th>1</th>\n",
       "      <td>2017-01</td>\n",
       "      <td>375624.18</td>\n",
       "      <td>53660.597143</td>\n",
       "      <td>9873.645809</td>\n",
       "      <td>29.387247</td>\n",
       "    </tr>\n",
       "    <tr>\n",
       "      <th>2</th>\n",
       "      <td>2017-02</td>\n",
       "      <td>398794.20</td>\n",
       "      <td>56970.600000</td>\n",
       "      <td>9162.547693</td>\n",
       "      <td>33.535836</td>\n",
       "    </tr>\n",
       "    <tr>\n",
       "      <th>3</th>\n",
       "      <td>2017-03</td>\n",
       "      <td>384035.28</td>\n",
       "      <td>54862.182857</td>\n",
       "      <td>9224.738864</td>\n",
       "      <td>38.697274</td>\n",
       "    </tr>\n",
       "    <tr>\n",
       "      <th>4</th>\n",
       "      <td>2017-04</td>\n",
       "      <td>392219.68</td>\n",
       "      <td>56031.382857</td>\n",
       "      <td>9847.583099</td>\n",
       "      <td>35.600893</td>\n",
       "    </tr>\n",
       "  </tbody>\n",
       "</table>\n",
       "</div>"
      ],
      "text/plain": [
       "  yr_and_week_num  electricity_usage_sum_byWeek  \\\n",
       "0         2016-52                      78629.78   \n",
       "1         2017-01                     375624.18   \n",
       "2         2017-02                     398794.20   \n",
       "3         2017-03                     384035.28   \n",
       "4         2017-04                     392219.68   \n",
       "\n",
       "   electricity_usage_mean_byWeek  electricity_usage_std_byWeek  \\\n",
       "0                   39314.890000                  17657.290712   \n",
       "1                   53660.597143                   9873.645809   \n",
       "2                   56970.600000                   9162.547693   \n",
       "3                   54862.182857                   9224.738864   \n",
       "4                   56031.382857                   9847.583099   \n",
       "\n",
       "   out_door_temp_mean_byWeek  \n",
       "0                  32.418114  \n",
       "1                  29.387247  \n",
       "2                  33.535836  \n",
       "3                  38.697274  \n",
       "4                  35.600893  "
      ]
     },
     "execution_count": 251,
     "metadata": {},
     "output_type": "execute_result"
    }
   ],
   "source": [
    "def organize_data_byWeek(df): \n",
    "    # remove first incomplete week and group by week\n",
    "    weekDF = df.groupby('yr_and_week_num',as_index=False).agg({'electricity_usage_sum_byDate': ['sum', 'mean','std'],'out_door_temp_mean_byDate': ['mean'] })\n",
    "    #format subheaders\n",
    "    weekDF['electricity_usage_sum_byWeek'] = weekDF[(\n",
    "        'electricity_usage_sum_byDate', 'sum')]\n",
    "    weekDF['electricity_usage_mean_byWeek'] = weekDF[(\n",
    "        'electricity_usage_sum_byDate', 'mean')]\n",
    "    weekDF['electricity_usage_std_byWeek'] = weekDF[(\n",
    "        'electricity_usage_sum_byDate', 'std')]\n",
    "    weekDF['out_door_temp_mean_byWeek'] = weekDF[(\n",
    "        'out_door_temp_mean_byDate', 'mean')]\n",
    "\n",
    "    del weekDF[\"electricity_usage_sum_byDate\"]\n",
    "    del weekDF[\"out_door_temp_mean_byDate\"]\n",
    "\n",
    "    weekDF.reset_index()\n",
    "    weekDF.columns = weekDF.columns.droplevel(1)   \n",
    "    \n",
    "    return weekDF\n",
    "\n",
    "DF_byWeek = organize_data_byWeek(DF_byDay)\n",
    "\n",
    "DF_byWeek.head()"
   ]
  },
  {
   "cell_type": "code",
   "execution_count": 252,
   "metadata": {},
   "outputs": [
    {
     "name": "stdout",
     "output_type": "stream",
     "text": [
      "    yr_and_week_num  electricity_usage_sum_byWeek  \\\n",
      "53          2018-01                     456006.32   \n",
      "104         2018-52                     320128.40   \n",
      "103         2018-51                     377066.10   \n",
      "102         2018-50                     384679.98   \n",
      "101         2018-49                     387423.72   \n",
      "\n",
      "     electricity_usage_mean_byWeek  electricity_usage_std_byWeek  \\\n",
      "53                    57000.790000                   4936.634144   \n",
      "104                   45732.628571                   6616.239013   \n",
      "103                   53866.585714                  10244.616410   \n",
      "102                   54954.282857                  10338.425721   \n",
      "101                   55346.245714                   9181.917409   \n",
      "\n",
      "     out_door_temp_mean_byWeek monday_of_that_week  \n",
      "53                   15.768867          2018-12-31  \n",
      "104                  36.946181          2018-12-24  \n",
      "103                  37.240585          2018-12-17  \n",
      "102                  35.354789          2018-12-10  \n",
      "101                  30.920898          2018-12-03  \n",
      "  yr_and_week_num  electricity_usage_sum_byWeek  \\\n",
      "0         2017-01                     375624.18   \n",
      "1         2017-02                     398794.20   \n",
      "2         2017-03                     384035.28   \n",
      "3         2017-04                     392219.68   \n",
      "4         2017-05                     400551.64   \n",
      "\n",
      "   electricity_usage_mean_byWeek  electricity_usage_std_byWeek  \\\n",
      "0                   53660.597143                   9873.645809   \n",
      "1                   56970.600000                   9162.547693   \n",
      "2                   54862.182857                   9224.738864   \n",
      "3                   56031.382857                   9847.583099   \n",
      "4                   57221.662857                   9151.186141   \n",
      "\n",
      "   out_door_temp_mean_byWeek monday_of_that_week  \n",
      "0                  29.387247          2017-01-02  \n",
      "1                  33.535836          2017-01-09  \n",
      "2                  38.697274          2017-01-16  \n",
      "3                  35.600893          2017-01-23  \n",
      "4                  28.863978          2017-01-30  \n"
     ]
    }
   ],
   "source": [
    "def integrate_week_dateRef(week_data,day_data):    \n",
    "    day_data_byMondays = day_data[day_data['day_num'] == 0]\n",
    "    day_data_byMondays_filtered = day_data_byMondays.filter(\n",
    "        ['just_date', 'yr_and_week_num'])\n",
    "    merged_week_df_withDateRef = pd.merge(day_data_byMondays_filtered, week_data,\n",
    "                    on='yr_and_week_num', how='inner')\n",
    "    \n",
    "    merged_week_df_withDateRef['monday_of_that_week'] = merged_week_df_withDateRef['just_date']\n",
    "    del merged_week_df_withDateRef['just_date']\n",
    "\n",
    "    return merged_week_df_withDateRef\n",
    "\n",
    "merged_week_df_withDateRef = integrate_week_dateRef(DF_byWeek,DF_byDay)\n",
    "\n",
    "sorteddf = merged_week_df_withDateRef.sort_values(by=['monday_of_that_week'],ascending=False)\n",
    "sorteddfDown = merged_week_df_withDateRef.sort_values(by=['monday_of_that_week'],ascending=True)\n",
    "\n",
    "print(sorteddf.head())\n",
    "print(sorteddfDown.head())\n"
   ]
  },
  {
   "cell_type": "code",
   "execution_count": 253,
   "metadata": {},
   "outputs": [],
   "source": [
    "# print(weekday_DF_byDay['electricity_usage_sum_bydate'].head())\n",
    "\n",
    "def merge_week_and_day_data(DF_byDay,DF_byWeek):\n",
    "#     del DF_byWeek['monday_of_that_week']\n",
    "    DF_byDay_with_weekdata = pd.merge(DF_byDay,DF_byWeek, on='yr_and_week_num')\n",
    "\n",
    "    def if_wknd(df):\n",
    "        if df.day_num > 4:\n",
    "            return True\n",
    "        else:\n",
    "            return False\n",
    "\n",
    "    DF_byDay_with_weekdata['wknd'] = DF_byDay_with_weekdata.apply(if_wknd,axis=1)\n",
    "    \n",
    "    weekend_DF_byTime = DF_byDay_with_weekdata[DF_byDay_with_weekdata['wknd']==True] \n",
    "\n",
    "    def if_wknd_or_holiday(df):\n",
    "        local_wknd_df = weekend_DF_byTime[weekend_DF_byTime['yr_and_week_num']==df['yr_and_week_num']]\n",
    "        localwkndmean = local_wknd_df['electricity_usage_sum_byDate'].mean()\n",
    "        if df['wknd']:\n",
    "            return True\n",
    "        if float(df.electricity_usage_sum_byDate) < localwkndmean + float(df.electricity_usage_std_byWeek) * 1 :\n",
    "            return True\n",
    "        else:\n",
    "            return False\n",
    "    \n",
    "           \n",
    "    DF_byDay_with_weekdata['wknd_or_hldy'] = DF_byDay_with_weekdata.apply(if_wknd_or_holiday,axis=1)\n",
    "\n",
    "         \n",
    "    return DF_byDay_with_weekdata\n",
    "\n",
    "DF_byDay_with_weekdata = merge_week_and_day_data(DF_byDay, merged_week_df_withDateRef)\n",
    "\n",
    "# weekday_DF_byTime = DF_byDay_with_weekdata[DF_byDay_with_weekdata['wknd_or_hldy']==False] \n",
    "# weekend_DF_byTime = DF_byDay_with_weekdata[DF_byDay_with_weekdata['wknd_or_hldy']==True] \n",
    "\n",
    "# print(len(weekend_DF_byTime),weekend_DF_byTime[1:].head()) \n"
   ]
  },
  {
   "cell_type": "code",
   "execution_count": 254,
   "metadata": {},
   "outputs": [],
   "source": [
    "weekday_DF_byTime = DF_byDay_with_weekdata[DF_byDay_with_weekdata['wknd_or_hldy']==False] \n",
    "weekend_DF_byTime = DF_byDay_with_weekdata[DF_byDay_with_weekdata['wknd_or_hldy']==True] \n",
    "\n"
   ]
  },
  {
   "cell_type": "code",
   "execution_count": 256,
   "metadata": {},
   "outputs": [
    {
     "name": "stdout",
     "output_type": "stream",
     "text": [
      "<class 'pandas._libs.tslib.Timestamp'> <class 'pandas._libs.tslib.Timestamp'>\n",
      "     out_door_temp  electricity_usage            datetime  just_date just_time\n",
      "573      38.370833             969.32 2017-01-11 00:00:00 2017-01-11  00:00:00\n",
      "574      39.152500             969.24 2017-01-11 00:30:00 2017-01-11  00:30:00\n",
      "575      40.502500             948.94 2017-01-11 01:00:00 2017-01-11  01:00:00\n",
      "576      41.417500             929.80 2017-01-11 01:30:00 2017-01-11  01:30:00\n",
      "577      41.867500             861.02 2017-01-11 02:00:00 2017-01-11  02:00:00\n"
     ]
    }
   ],
   "source": [
    "weekday_DF_byTime\n",
    "testDate = weekday_DF_byTime.iloc[10]['just_date']\n",
    "testDate2 = time_data.iloc[10]['just_date']\n",
    "\n",
    "print(type(testDate),type(testDate2))\n",
    "specific_day_data = time_data[time_data['just_date'] == testDate.to_pydatetime() ]\n",
    "print(specific_day_data.head())\n",
    "\n",
    "\n"
   ]
  },
  {
   "cell_type": "code",
   "execution_count": 261,
   "metadata": {},
   "outputs": [
    {
     "data": {
      "text/plain": [
       "Index(['out_door_temp', 'electricity_usage', 'datetime', 'just_date',\n",
       "       'just_time'],\n",
       "      dtype='object')"
      ]
     },
     "execution_count": 261,
     "metadata": {},
     "output_type": "execute_result"
    }
   ],
   "source": [
    "time_data.columns\n",
    "\n"
   ]
  },
  {
   "cell_type": "code",
   "execution_count": 262,
   "metadata": {},
   "outputs": [
    {
     "name": "stdout",
     "output_type": "stream",
     "text": [
      "   out_door_temp  electricity_usage            datetime  just_date just_time\n",
      "0      33.630833             779.96 2016-12-30 01:30:00 2016-12-30  01:30:00\n",
      "1      33.280833             804.26 2016-12-30 02:00:00 2016-12-30  02:00:00\n",
      "2      33.003333             743.50 2016-12-30 02:30:00 2016-12-30  02:30:00\n",
      "3      32.803333             703.86 2016-12-30 03:00:00 2016-12-30  03:00:00\n",
      "4      32.555000             699.72 2016-12-30 03:30:00 2016-12-30  03:30:00\n"
     ]
    },
    {
     "ename": "AttributeError",
     "evalue": "'list' object has no attribute 'reshape'",
     "output_type": "error",
     "traceback": [
      "\u001b[0;31m---------------------------------------------------------------------------\u001b[0m",
      "\u001b[0;31mAttributeError\u001b[0m                            Traceback (most recent call last)",
      "\u001b[0;32m<ipython-input-262-9305844fa675>\u001b[0m in \u001b[0;36m<module>\u001b[0;34m()\u001b[0m\n\u001b[1;32m     14\u001b[0m \u001b[0my\u001b[0m \u001b[0;34m=\u001b[0m \u001b[0mtime_data\u001b[0m\u001b[0;34m[\u001b[0m\u001b[0;34m'electricity_usage'\u001b[0m\u001b[0;34m]\u001b[0m\u001b[0;34m\u001b[0m\u001b[0m\n\u001b[1;32m     15\u001b[0m \u001b[0;34m\u001b[0m\u001b[0m\n\u001b[0;32m---> 16\u001b[0;31m \u001b[0mx\u001b[0m \u001b[0;34m=\u001b[0m \u001b[0mX\u001b[0m\u001b[0;34m.\u001b[0m\u001b[0mreshape\u001b[0m\u001b[0;34m(\u001b[0m\u001b[0mlen\u001b[0m\u001b[0;34m(\u001b[0m\u001b[0mX\u001b[0m\u001b[0;34m)\u001b[0m\u001b[0;34m,\u001b[0m \u001b[0;36m1\u001b[0m\u001b[0;34m)\u001b[0m\u001b[0;34m\u001b[0m\u001b[0m\n\u001b[0m\u001b[1;32m     17\u001b[0m \u001b[0my\u001b[0m \u001b[0;34m=\u001b[0m \u001b[0my\u001b[0m\u001b[0;34m.\u001b[0m\u001b[0mreshape\u001b[0m\u001b[0;34m(\u001b[0m\u001b[0mlen\u001b[0m\u001b[0;34m(\u001b[0m\u001b[0my\u001b[0m\u001b[0;34m)\u001b[0m\u001b[0;34m,\u001b[0m \u001b[0;36m1\u001b[0m\u001b[0;34m)\u001b[0m\u001b[0;34m\u001b[0m\u001b[0m\n\u001b[1;32m     18\u001b[0m \u001b[0;34m\u001b[0m\u001b[0m\n",
      "\u001b[0;31mAttributeError\u001b[0m: 'list' object has no attribute 'reshape'"
     ]
    }
   ],
   "source": [
    "\n",
    "from scipy import stats\n",
    "from datetime import datetime\n",
    "from sklearn import preprocessing\n",
    "from sklearn.model_selection import KFold\n",
    "from sklearn.linear_model import LinearRegression\n",
    "import matplotlib.pyplot as plt\n",
    "%matplotlib inline\n",
    "\n",
    "\n",
    "print(time_data.head())\n",
    "time_data = time_data.dropna()\n",
    "X = [time_data['out_door_temp'],time_data['just_time']]\n",
    "y = time_data['electricity_usage']\n",
    "\n",
    "x = X.reshape(len(X), 1)\n",
    "y = y.reshape(len(y), 1)\n",
    "\n",
    "model.fit(x, y)\n",
    "\n",
    "# plot it as in the example at http://scikit-learn.org/\n",
    "plt.scatter(x, y,  color='black')\n",
    "plt.plot(x, regr.predict(x), color='blue', linewidth=3)\n",
    "plt.xticks(())\n",
    "plt.yticks(())\n",
    "plt.show()\n",
    "\n",
    "\n",
    "\n",
    "model = LinearRegression()\n",
    "scores = []\n",
    "kfold = KFold(n_splits=3, shuffle=True, random_state=42)\n",
    "for i, (train, test) in enumerate(kfold.split(X, y)):\n",
    " model.fit(X.iloc[train,:], y.iloc[train,:])\n",
    " score = model.score(X.iloc[test,:], y.iloc[test,:])\n",
    " scores.append(score)\n",
    "print(scores)\n",
    "\n",
    "print(model.predict(32.803333))"
   ]
  },
  {
   "cell_type": "code",
   "execution_count": 266,
   "metadata": {},
   "outputs": [
    {
     "ename": "NameError",
     "evalue": "name 'train_test_split' is not defined",
     "output_type": "error",
     "traceback": [
      "\u001b[0;31m---------------------------------------------------------------------------\u001b[0m",
      "\u001b[0;31mNameError\u001b[0m                                 Traceback (most recent call last)",
      "\u001b[0;32m<ipython-input-266-ab24faa65aae>\u001b[0m in \u001b[0;36m<module>\u001b[0;34m()\u001b[0m\n\u001b[1;32m      2\u001b[0m \u001b[0mX\u001b[0m \u001b[0;34m=\u001b[0m \u001b[0mtime_data\u001b[0m\u001b[0;34m.\u001b[0m\u001b[0mdrop\u001b[0m\u001b[0;34m(\u001b[0m\u001b[0;34m[\u001b[0m\u001b[0;34m'electricity_usage'\u001b[0m\u001b[0;34m,\u001b[0m\u001b[0;34m'datetime'\u001b[0m\u001b[0;34m,\u001b[0m\u001b[0;34m'just_date'\u001b[0m\u001b[0;34m]\u001b[0m\u001b[0;34m,\u001b[0m \u001b[0maxis\u001b[0m\u001b[0;34m=\u001b[0m\u001b[0;36m1\u001b[0m\u001b[0;34m)\u001b[0m\u001b[0;34m.\u001b[0m\u001b[0mvalues\u001b[0m\u001b[0;34m\u001b[0m\u001b[0m\n\u001b[1;32m      3\u001b[0m \u001b[0;34m\u001b[0m\u001b[0m\n\u001b[0;32m----> 4\u001b[0;31m \u001b[0mX_train\u001b[0m\u001b[0;34m,\u001b[0m \u001b[0mX_test\u001b[0m\u001b[0;34m,\u001b[0m \u001b[0my_train\u001b[0m\u001b[0;34m,\u001b[0m \u001b[0my_test\u001b[0m \u001b[0;34m=\u001b[0m \u001b[0mtrain_test_split\u001b[0m\u001b[0;34m(\u001b[0m\u001b[0mX\u001b[0m\u001b[0;34m,\u001b[0m \u001b[0my\u001b[0m\u001b[0;34m,\u001b[0m \u001b[0mtest_size\u001b[0m\u001b[0;34m=\u001b[0m\u001b[0;36m0.3\u001b[0m\u001b[0;34m,\u001b[0m \u001b[0mrandom_state\u001b[0m\u001b[0;34m=\u001b[0m\u001b[0;36m42\u001b[0m\u001b[0;34m)\u001b[0m\u001b[0;34m\u001b[0m\u001b[0m\n\u001b[0m\u001b[1;32m      5\u001b[0m \u001b[0mlinreg\u001b[0m \u001b[0;34m=\u001b[0m \u001b[0mLinearRegression\u001b[0m\u001b[0;34m(\u001b[0m\u001b[0;34m)\u001b[0m\u001b[0;34m\u001b[0m\u001b[0m\n\u001b[1;32m      6\u001b[0m \u001b[0mlinreg\u001b[0m\u001b[0;34m.\u001b[0m\u001b[0mfit\u001b[0m\u001b[0;34m(\u001b[0m\u001b[0mX_train\u001b[0m\u001b[0;34m,\u001b[0m \u001b[0my_train\u001b[0m\u001b[0;34m)\u001b[0m\u001b[0;34m\u001b[0m\u001b[0m\n",
      "\u001b[0;31mNameError\u001b[0m: name 'train_test_split' is not defined"
     ]
    }
   ],
   "source": [
    "y = time_data.electricity_usage.values\n",
    "X = time_data.drop(['electricity_usage','datetime','just_date'], axis=1).values\n",
    "\n",
    "X_train, X_test, y_train, y_test = sklearn.model_selection.train_test_split(X, y, test_size=0.3, random_state=42)\n",
    "linreg = LinearRegression()\n",
    "linreg.fit(X_train, y_train)\n",
    "y_pred = linreg.predict(X_test)\n",
    "print(linreg.score(X_test, y_test))\n",
    "# print(classification_report(y_test, y_pred))"
   ]
  },
  {
   "cell_type": "code",
   "execution_count": null,
   "metadata": {},
   "outputs": [],
   "source": []
  }
 ],
 "metadata": {
  "kernelspec": {
   "display_name": "Python 3",
   "language": "python",
   "name": "python3"
  },
  "language_info": {
   "codemirror_mode": {
    "name": "ipython",
    "version": 3
   },
   "file_extension": ".py",
   "mimetype": "text/x-python",
   "name": "python",
   "nbconvert_exporter": "python",
   "pygments_lexer": "ipython3",
   "version": "3.6.4"
  }
 },
 "nbformat": 4,
 "nbformat_minor": 2
}
